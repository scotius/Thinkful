{
 "cells": [
  {
   "cell_type": "code",
   "execution_count": 1,
   "metadata": {
    "collapsed": true
   },
   "outputs": [],
   "source": [
    "import numpy as np\n",
    "import pandas as pd\n",
    "import matplotlib.pyplot as plt\n",
    "%matplotlib inline"
   ]
  },
  {
   "cell_type": "code",
   "execution_count": 54,
   "metadata": {},
   "outputs": [],
   "source": [
    "betavar = np.random.beta(1,1,100)"
   ]
  },
  {
   "cell_type": "code",
   "execution_count": 55,
   "metadata": {},
   "outputs": [],
   "source": [
    "chisquarevar = np.random.chisquare(1,100)"
   ]
  },
  {
   "cell_type": "code",
   "execution_count": 56,
   "metadata": {},
   "outputs": [],
   "source": [
    "paretovar = np.random.pareto(1,100)"
   ]
  },
  {
   "cell_type": "code",
   "execution_count": 57,
   "metadata": {},
   "outputs": [],
   "source": [
    "vonmisesvar = np.random.vonmises(1,1,100)"
   ]
  },
  {
   "cell_type": "code",
   "execution_count": 58,
   "metadata": {},
   "outputs": [],
   "source": [
    "triangularvar = np.random.triangular(1,20,60,100)"
   ]
  },
  {
   "cell_type": "code",
   "execution_count": 59,
   "metadata": {},
   "outputs": [],
   "source": [
    "negative_binomialvar = np.random.negative_binomial(1,.1,100)"
   ]
  },
  {
   "cell_type": "code",
   "execution_count": 60,
   "metadata": {},
   "outputs": [],
   "source": [
    "betavar.sort()\n",
    "chisquarevar.sort()\n",
    "paretovar.sort()\n",
    "vonmisesvar.sort()\n",
    "triangularvar.sort()\n",
    "negative_binomialvar.sort()"
   ]
  },
  {
   "cell_type": "code",
   "execution_count": 63,
   "metadata": {},
   "outputs": [
    {
     "data": {
      "image/png": "[encoded data removed]",
      "text/plain": [
       "<Figure size 432x288 with 1 Axes>"
      ]
     },
     "metadata": {},
     "output_type": "display_data"
    }
   ],
   "source": [
    "plt.hist(betavar, bins=20, color='c')\n",
    "#Add a vertical line at the mean.\n",
    "plt.axvline(betavar.mean(), color='b', linestyle='solid', linewidth=2)\n",
    "#Add a vertical line at one standard deviation above the mean.\n",
    "plt.axvline(betavar.mean() + betavar.std(), color='b', linestyle='dashed', linewidth=2)\n",
    "#Add a vertical line at one standard deviation below the mean.\n",
    "plt.axvline(betavar.mean()-betavar.std(), color='b', linestyle='dashed', linewidth=2) \n",
    "# Print the histogram.\n",
    "plt.show()"
   ]
  },
  {
   "cell_type": "code",
   "execution_count": 64,
   "metadata": {},
   "outputs": [
    {
     "data": {
      "image/png": "[encoded data removed]",
      "text/plain": [
       "<Figure size 432x288 with 1 Axes>"
      ]
     },
     "metadata": {},
     "output_type": "display_data"
    }
   ],
   "source": [
    "plt.hist(chisquarevar, bins=20, color='c')\n",
    "#Add a vertical line at the mean.\n",
    "plt.axvline(chisquarevar.mean(), color='b', linestyle='solid', linewidth=2)\n",
    "#Add a vertical line at one standard deviation above the mean.\n",
    "plt.axvline(chisquarevar.mean() + chisquarevar.std(), color='b', linestyle='dashed', linewidth=2)\n",
    "#Add a vertical line at one standard deviation below the mean.\n",
    "plt.axvline(chisquarevar.mean()-chisquarevar.std(), color='b', linestyle='dashed', linewidth=2) \n",
    "# Print the histogram.\n",
    "plt.show()"
   ]
  },
  {
   "cell_type": "code",
   "execution_count": 65,
   "metadata": {},
   "outputs": [
    {
     "data": {
      "image/png": "[encoded data removed]",
      "text/plain": [
       "<Figure size 432x288 with 1 Axes>"
      ]
     },
     "metadata": {},
     "output_type": "display_data"
    }
   ],
   "source": [
    "plt.hist(paretovar, bins=20, color='c')\n",
    "#Add a vertical line at the mean.\n",
    "plt.axvline(paretovar.mean(), color='b', linestyle='solid', linewidth=2)\n",
    "#Add a vertical line at one standard deviation above the mean.\n",
    "plt.axvline(paretovar.mean() + paretovar.std(), color='b', linestyle='dashed', linewidth=2)\n",
    "#Add a vertical line at one standard deviation below the mean.\n",
    "plt.axvline(paretovar.mean()-paretovar.std(), color='b', linestyle='dashed', linewidth=2) \n",
    "# Print the histogram.\n",
    "plt.show()"
   ]
  },
  {
   "cell_type": "code",
   "execution_count": 66,
   "metadata": {},
   "outputs": [
    {
     "data": {
      "image/png": "[encoded data removed]",
      "text/plain": [
       "<Figure size 432x288 with 1 Axes>"
      ]
     },
     "metadata": {},
     "output_type": "display_data"
    }
   ],
   "source": [
    "plt.hist(vonmisesvar, bins=20, color='c')\n",
    "#Add a vertical line at the mean.\n",
    "plt.axvline(vonmisesvar.mean(), color='b', linestyle='solid', linewidth=2)\n",
    "#Add a vertical line at one standard deviation above the mean.\n",
    "plt.axvline(vonmisesvar.mean() + vonmisesvar.std(), color='b', linestyle='dashed', linewidth=2)\n",
    "#Add a vertical line at one standard deviation below the mean.\n",
    "plt.axvline(vonmisesvar.mean()-vonmisesvar.std(), color='b', linestyle='dashed', linewidth=2) \n",
    "# Print the histogram.\n",
    "plt.show()"
   ]
  },
  {
   "cell_type": "code",
   "execution_count": 67,
   "metadata": {},
   "outputs": [
    {
     "data": {
      "image/png": "[encoded data removed]",
      "text/plain": [
       "<Figure size 432x288 with 1 Axes>"
      ]
     },
     "metadata": {},
     "output_type": "display_data"
    }
   ],
   "source": [
    "plt.hist(triangularvar, bins=20, color='c')\n",
    "#Add a vertical line at the mean.\n",
    "plt.axvline(triangularvar.mean(), color='b', linestyle='solid', linewidth=2)\n",
    "#Add a vertical line at one standard deviation above the mean.\n",
    "plt.axvline(triangularvar.mean() + triangularvar.std(), color='b', linestyle='dashed', linewidth=2)\n",
    "#Add a vertical line at one standard deviation below the mean.\n",
    "plt.axvline(triangularvar.mean()-triangularvar.std(), color='b', linestyle='dashed', linewidth=2) \n",
    "# Print the histogram.\n",
    "plt.show()"
   ]
  },
  {
   "cell_type": "code",
   "execution_count": 68,
   "metadata": {},
   "outputs": [
    {
     "data": {
      "image/png": "[encoded data removed]",
      "text/plain": [
       "<Figure size 432x288 with 1 Axes>"
      ]
     },
     "metadata": {},
     "output_type": "display_data"
    }
   ],
   "source": [
    "plt.hist(negative_binomialvar, bins=20, color='c')\n",
    "#Add a vertical line at the mean.\n",
    "plt.axvline(negative_binomialvar.mean(), color='b', linestyle='solid', linewidth=2)\n",
    "#Add a vertical line at one standard deviation above the mean.\n",
    "plt.axvline(negative_binomialvar.mean() + negative_binomialvar.std(), color='b', linestyle='dashed', linewidth=2)\n",
    "#Add a vertical line at one standard deviation below the mean.\n",
    "plt.axvline(negative_binomialvar.mean()-negative_binomialvar.std(), color='b', linestyle='dashed', linewidth=2) \n",
    "# Print the histogram.\n",
    "plt.show()"
   ]
  },
  {
   "cell_type": "code",
   "execution_count": 70,
   "metadata": {
    "collapsed": true
   },
   "outputs": [],
   "source": [
    "normal1 = np.random.normal(5, .5, 100)\n",
    "normal2 = np.random.normal(10, 1, 100)"
   ]
  },
  {
   "cell_type": "code",
   "execution_count": 73,
   "metadata": {},
   "outputs": [],
   "source": [
    "sum_of_normals = normal1 + normal2"
   ]
  },
  {
   "cell_type": "code",
   "execution_count": 74,
   "metadata": {},
   "outputs": [
    {
     "data": {
      "image/png": "[encoded data removed]",
      "text/plain": [
       "<Figure size 432x288 with 1 Axes>"
      ]
     },
     "metadata": {},
     "output_type": "display_data"
    }
   ],
   "source": [
    "plt.hist(sum_of_normals, bins=20, color='c')\n",
    "#Add a vertical line at the mean.\n",
    "plt.axvline(sum_of_normals.mean(), color='b', linestyle='solid', linewidth=2)\n",
    "#Add a vertical line at one standard deviation above the mean.\n",
    "plt.axvline(sum_of_normals.mean() + sum_of_normals.std(), color='b', linestyle='dashed', linewidth=2)\n",
    "#Add a vertical line at one standard deviation below the mean.\n",
    "plt.axvline(sum_of_normals.mean()-sum_of_normals.std(), color='b', linestyle='dashed', linewidth=2) \n",
    "# Print the histogram.\n",
    "plt.show()"
   ]
  },
  {
   "cell_type": "code",
   "execution_count": null,
   "metadata": {
    "collapsed": true
   },
   "outputs": [],
   "source": []
  }
 ],
 "metadata": {
  "kernelspec": {
   "display_name": "Python 3",
   "language": "python",
   "name": "python3"
  },
  "language_info": {
   "codemirror_mode": {
    "name": "ipython",
    "version": 3
   },
   "file_extension": ".py",
   "mimetype": "text/x-python",
   "name": "python",
   "nbconvert_exporter": "python",
   "pygments_lexer": "ipython3",
   "version": "3.6.4"
  }
 },
 "nbformat": 4,
 "nbformat_minor": 2
}
