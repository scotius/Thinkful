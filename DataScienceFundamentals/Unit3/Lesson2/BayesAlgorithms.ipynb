{
 "cells": [
  {
   "cell_type": "markdown",
   "metadata": {},
   "source": [
    "Aircraft emergency locator transmitter\n",
    "A .8 .04"
   ]
  },
  {
   "cell_type": "markdown",
   "metadata": {},
   "source": [
    "B .15 .06"
   ]
  },
  {
   "cell_type": "markdown",
   "metadata": {},
   "source": [
    "C. .05 .09"
   ]
  },
  {
   "cell_type": "markdown",
   "metadata": {},
   "source": [
    "P(A | B) = P(B | A) * P(A) / P(B)\n",
    "\n",
    "OR\n",
    "\n",
    "P(A | B) = P(B | A) * P(A) / [P(A)*P(B|A) + P(A~)*P(B|A~)]"
   ]
  },
  {
   "cell_type": "markdown",
   "metadata": {},
   "source": [
    "P(A) = .8 <br>\n",
    "P(B) = .15<br>\n",
    "P(C) = .05<br>\n",
    "P(D|A) = .04<br>\n",
    "P(D|B) = .06<br>\n",
    "P(D|C) = .09<br>"
   ]
  },
  {
   "cell_type": "markdown",
   "metadata": {},
   "source": [
    "P(A|D) = (P(A)*P(D|A)) / ([P(A)*P(D|A)]+[P(B)*P(D|B)]+[P(C)*P(D|C)]) <br>\n",
    "= (0.80 \\* 0.04) / ([0.80 \\* 0.04]+[0.15 \\* 0.06]+[0.05 \\* 0.09]) <br>\n",
    "= 0.703 (rounded)"
   ]
  },
  {
   "cell_type": "markdown",
   "metadata": {},
   "source": [
    "Ingrowing Toenail"
   ]
  },
  {
   "cell_type": "markdown",
   "metadata": {},
   "source": [
    "P(FP) = .01"
   ]
  },
  {
   "cell_type": "markdown",
   "metadata": {},
   "source": [
    "P(SF) = 0.0001"
   ]
  },
  {
   "cell_type": "markdown",
   "metadata": {},
   "source": [
    "P(SF | FP)"
   ]
  },
  {
   "cell_type": "markdown",
   "metadata": {},
   "source": [
    "= P(FP | SF) \\* P(SF) / P(FP)"
   ]
  },
  {
   "cell_type": "code",
   "execution_count": null,
   "metadata": {},
   "outputs": [],
   "source": [
    "= "
   ]
  }
 ],
 "metadata": {
  "kernelspec": {
   "display_name": "Python 3",
   "language": "python",
   "name": "python3"
  },
  "language_info": {
   "codemirror_mode": {
    "name": "ipython",
    "version": 3
   },
   "file_extension": ".py",
   "mimetype": "text/x-python",
   "name": "python",
   "nbconvert_exporter": "python",
   "pygments_lexer": "ipython3",
   "version": "3.6.4"
  }
 },
 "nbformat": 4,
 "nbformat_minor": 2
}
