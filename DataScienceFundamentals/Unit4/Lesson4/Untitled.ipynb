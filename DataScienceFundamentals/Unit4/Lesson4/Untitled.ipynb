{
 "cells": [
  {
   "cell_type": "code",
   "execution_count": 69,
   "metadata": {
    "collapsed": true
   },
   "outputs": [],
   "source": [
    "import pandas as pd\n",
    "import numpy as np\n",
    "import matplotlib.pyplot as plt"
   ]
  },
  {
   "cell_type": "code",
   "execution_count": 70,
   "metadata": {
    "collapsed": true
   },
   "outputs": [],
   "source": [
    "df1 = pd.read_csv('metro-bike-share-trip-data.csv', low_memory=False)"
   ]
  },
  {
   "cell_type": "code",
   "execution_count": 71,
   "metadata": {},
   "outputs": [
    {
     "data": {
      "text/html": [
       "<div>\n",
       "<style scoped>\n",
       "    .dataframe tbody tr th:only-of-type {\n",
       "        vertical-align: middle;\n",
       "    }\n",
       "\n",
       "    .dataframe tbody tr th {\n",
       "        vertical-align: top;\n",
       "    }\n",
       "\n",
       "    .dataframe thead th {\n",
       "        text-align: right;\n",
       "    }\n",
       "</style>\n",
       "<table border=\"1\" class=\"dataframe\">\n",
       "  <thead>\n",
       "    <tr style=\"text-align: right;\">\n",
       "      <th></th>\n",
       "      <th>Trip ID</th>\n",
       "      <th>Duration</th>\n",
       "      <th>Start Time</th>\n",
       "      <th>End Time</th>\n",
       "      <th>Starting Station ID</th>\n",
       "      <th>Starting Station Latitude</th>\n",
       "      <th>Starting Station Longitude</th>\n",
       "      <th>Ending Station ID</th>\n",
       "      <th>Ending Station Latitude</th>\n",
       "      <th>Ending Station Longitude</th>\n",
       "      <th>Bike ID</th>\n",
       "      <th>Plan Duration</th>\n",
       "      <th>Trip Route Category</th>\n",
       "      <th>Passholder Type</th>\n",
       "      <th>Starting Lat-Long</th>\n",
       "      <th>Ending Lat-Long</th>\n",
       "    </tr>\n",
       "  </thead>\n",
       "  <tbody>\n",
       "    <tr>\n",
       "      <th>0</th>\n",
       "      <td>1912818</td>\n",
       "      <td>180</td>\n",
       "      <td>2016-07-07T04:17:00</td>\n",
       "      <td>2016-07-07T04:20:00</td>\n",
       "      <td>3014.0</td>\n",
       "      <td>34.056610</td>\n",
       "      <td>-118.23721</td>\n",
       "      <td>3014.0</td>\n",
       "      <td>34.056610</td>\n",
       "      <td>-118.23721</td>\n",
       "      <td>6281.0</td>\n",
       "      <td>30.0</td>\n",
       "      <td>Round Trip</td>\n",
       "      <td>Monthly Pass</td>\n",
       "      <td>{'longitude': '-118.23721', 'latitude': '34.05...</td>\n",
       "      <td>{'longitude': '-118.23721', 'latitude': '34.05...</td>\n",
       "    </tr>\n",
       "    <tr>\n",
       "      <th>1</th>\n",
       "      <td>1919661</td>\n",
       "      <td>1980</td>\n",
       "      <td>2016-07-07T06:00:00</td>\n",
       "      <td>2016-07-07T06:33:00</td>\n",
       "      <td>3014.0</td>\n",
       "      <td>34.056610</td>\n",
       "      <td>-118.23721</td>\n",
       "      <td>3014.0</td>\n",
       "      <td>34.056610</td>\n",
       "      <td>-118.23721</td>\n",
       "      <td>6281.0</td>\n",
       "      <td>30.0</td>\n",
       "      <td>Round Trip</td>\n",
       "      <td>Monthly Pass</td>\n",
       "      <td>{'longitude': '-118.23721', 'latitude': '34.05...</td>\n",
       "      <td>{'longitude': '-118.23721', 'latitude': '34.05...</td>\n",
       "    </tr>\n",
       "    <tr>\n",
       "      <th>2</th>\n",
       "      <td>1933383</td>\n",
       "      <td>300</td>\n",
       "      <td>2016-07-07T10:32:00</td>\n",
       "      <td>2016-07-07T10:37:00</td>\n",
       "      <td>3016.0</td>\n",
       "      <td>34.052898</td>\n",
       "      <td>-118.24156</td>\n",
       "      <td>3016.0</td>\n",
       "      <td>34.052898</td>\n",
       "      <td>-118.24156</td>\n",
       "      <td>5861.0</td>\n",
       "      <td>365.0</td>\n",
       "      <td>Round Trip</td>\n",
       "      <td>Flex Pass</td>\n",
       "      <td>{'longitude': '-118.24156', 'latitude': '34.05...</td>\n",
       "      <td>{'longitude': '-118.24156', 'latitude': '34.05...</td>\n",
       "    </tr>\n",
       "    <tr>\n",
       "      <th>3</th>\n",
       "      <td>1944197</td>\n",
       "      <td>10860</td>\n",
       "      <td>2016-07-07T10:37:00</td>\n",
       "      <td>2016-07-07T13:38:00</td>\n",
       "      <td>3016.0</td>\n",
       "      <td>34.052898</td>\n",
       "      <td>-118.24156</td>\n",
       "      <td>3016.0</td>\n",
       "      <td>34.052898</td>\n",
       "      <td>-118.24156</td>\n",
       "      <td>5861.0</td>\n",
       "      <td>365.0</td>\n",
       "      <td>Round Trip</td>\n",
       "      <td>Flex Pass</td>\n",
       "      <td>{'longitude': '-118.24156', 'latitude': '34.05...</td>\n",
       "      <td>{'longitude': '-118.24156', 'latitude': '34.05...</td>\n",
       "    </tr>\n",
       "    <tr>\n",
       "      <th>4</th>\n",
       "      <td>1940317</td>\n",
       "      <td>420</td>\n",
       "      <td>2016-07-07T12:51:00</td>\n",
       "      <td>2016-07-07T12:58:00</td>\n",
       "      <td>3032.0</td>\n",
       "      <td>34.049889</td>\n",
       "      <td>-118.25588</td>\n",
       "      <td>3032.0</td>\n",
       "      <td>34.049889</td>\n",
       "      <td>-118.25588</td>\n",
       "      <td>6674.0</td>\n",
       "      <td>0.0</td>\n",
       "      <td>Round Trip</td>\n",
       "      <td>Walk-up</td>\n",
       "      <td>{'longitude': '-118.25588', 'latitude': '34.04...</td>\n",
       "      <td>{'longitude': '-118.25588', 'latitude': '34.04...</td>\n",
       "    </tr>\n",
       "  </tbody>\n",
       "</table>\n",
       "</div>"
      ],
      "text/plain": [
       "   Trip ID  Duration           Start Time             End Time  \\\n",
       "0  1912818       180  2016-07-07T04:17:00  2016-07-07T04:20:00   \n",
       "1  1919661      1980  2016-07-07T06:00:00  2016-07-07T06:33:00   \n",
       "2  1933383       300  2016-07-07T10:32:00  2016-07-07T10:37:00   \n",
       "3  1944197     10860  2016-07-07T10:37:00  2016-07-07T13:38:00   \n",
       "4  1940317       420  2016-07-07T12:51:00  2016-07-07T12:58:00   \n",
       "\n",
       "   Starting Station ID  Starting Station Latitude  Starting Station Longitude  \\\n",
       "0               3014.0                  34.056610                  -118.23721   \n",
       "1               3014.0                  34.056610                  -118.23721   \n",
       "2               3016.0                  34.052898                  -118.24156   \n",
       "3               3016.0                  34.052898                  -118.24156   \n",
       "4               3032.0                  34.049889                  -118.25588   \n",
       "\n",
       "   Ending Station ID  Ending Station Latitude  Ending Station Longitude  \\\n",
       "0             3014.0                34.056610                -118.23721   \n",
       "1             3014.0                34.056610                -118.23721   \n",
       "2             3016.0                34.052898                -118.24156   \n",
       "3             3016.0                34.052898                -118.24156   \n",
       "4             3032.0                34.049889                -118.25588   \n",
       "\n",
       "   Bike ID  Plan Duration Trip Route Category Passholder Type  \\\n",
       "0   6281.0           30.0          Round Trip    Monthly Pass   \n",
       "1   6281.0           30.0          Round Trip    Monthly Pass   \n",
       "2   5861.0          365.0          Round Trip       Flex Pass   \n",
       "3   5861.0          365.0          Round Trip       Flex Pass   \n",
       "4   6674.0            0.0          Round Trip         Walk-up   \n",
       "\n",
       "                                   Starting Lat-Long  \\\n",
       "0  {'longitude': '-118.23721', 'latitude': '34.05...   \n",
       "1  {'longitude': '-118.23721', 'latitude': '34.05...   \n",
       "2  {'longitude': '-118.24156', 'latitude': '34.05...   \n",
       "3  {'longitude': '-118.24156', 'latitude': '34.05...   \n",
       "4  {'longitude': '-118.25588', 'latitude': '34.04...   \n",
       "\n",
       "                                     Ending Lat-Long  \n",
       "0  {'longitude': '-118.23721', 'latitude': '34.05...  \n",
       "1  {'longitude': '-118.23721', 'latitude': '34.05...  \n",
       "2  {'longitude': '-118.24156', 'latitude': '34.05...  \n",
       "3  {'longitude': '-118.24156', 'latitude': '34.05...  \n",
       "4  {'longitude': '-118.25588', 'latitude': '34.04...  "
      ]
     },
     "execution_count": 71,
     "metadata": {},
     "output_type": "execute_result"
    }
   ],
   "source": [
    "df1.head()"
   ]
  },
  {
   "cell_type": "code",
   "execution_count": 1,
   "metadata": {},
   "outputs": [
    {
     "ename": "NameError",
     "evalue": "name 'df1' is not defined",
     "output_type": "error",
     "traceback": [
      "\u001b[0;31m---------------------------------------------------------------------------\u001b[0m",
      "\u001b[0;31mNameError\u001b[0m                                 Traceback (most recent call last)",
      "\u001b[0;32m<ipython-input-1-ac9fdb04b5e1>\u001b[0m in \u001b[0;36m<module>\u001b[0;34m()\u001b[0m\n\u001b[0;32m----> 1\u001b[0;31m \u001b[0mstarting_stations\u001b[0m \u001b[0;34m=\u001b[0m \u001b[0mdf1\u001b[0m\u001b[0;34m.\u001b[0m\u001b[0mgroupby\u001b[0m\u001b[0;34m(\u001b[0m\u001b[0;34m'Starting Station ID'\u001b[0m\u001b[0;34m)\u001b[0m\u001b[0;34m.\u001b[0m\u001b[0msortvalues\u001b[0m\u001b[0;34m(\u001b[0m\u001b[0;34m)\u001b[0m\u001b[0;34m\u001b[0m\u001b[0m\n\u001b[0m",
      "\u001b[0;31mNameError\u001b[0m: name 'df1' is not defined"
     ]
    }
   ],
   "source": [
    "starting_stations = df1.groupby('Starting Station ID').sortvalues()"
   ]
  },
  {
   "cell_type": "code",
   "execution_count": 73,
   "metadata": {},
   "outputs": [
    {
     "name": "stdout",
     "output_type": "stream",
     "text": [
      "3000.0\n",
      "3005.0\n",
      "3006.0\n",
      "3007.0\n",
      "3008.0\n",
      "3009.0\n",
      "3010.0\n",
      "3011.0\n",
      "3014.0\n",
      "3016.0\n",
      "3018.0\n",
      "3019.0\n",
      "3020.0\n",
      "3021.0\n",
      "3022.0\n",
      "3023.0\n",
      "3024.0\n",
      "3025.0\n",
      "3026.0\n",
      "3027.0\n",
      "3028.0\n",
      "3029.0\n",
      "3030.0\n",
      "3031.0\n",
      "3032.0\n",
      "3033.0\n",
      "3034.0\n",
      "3035.0\n",
      "3036.0\n",
      "3037.0\n",
      "3038.0\n",
      "3039.0\n",
      "3040.0\n",
      "3042.0\n",
      "3045.0\n",
      "3046.0\n",
      "3047.0\n",
      "3048.0\n",
      "3049.0\n",
      "3051.0\n",
      "3052.0\n",
      "3053.0\n",
      "3054.0\n",
      "3055.0\n",
      "3056.0\n",
      "3057.0\n",
      "3058.0\n",
      "3059.0\n",
      "3060.0\n",
      "3062.0\n",
      "3063.0\n",
      "3064.0\n",
      "3065.0\n",
      "3066.0\n",
      "3067.0\n",
      "3068.0\n",
      "3069.0\n",
      "3074.0\n",
      "3075.0\n",
      "3076.0\n",
      "3077.0\n",
      "3078.0\n",
      "3079.0\n",
      "3080.0\n",
      "3081.0\n",
      "3082.0\n",
      "4108.0\n"
     ]
    }
   ],
   "source": [
    "for name, group in starting_stations:\n",
    "    print(name)"
   ]
  },
  {
   "cell_type": "code",
   "execution_count": 74,
   "metadata": {
    "collapsed": true
   },
   "outputs": [],
   "source": [
    "starting_station_count = df1[['Starting Station ID', 'Trip ID']].groupby('Starting Station ID').count().reset_index()"
   ]
  },
  {
   "cell_type": "code",
   "execution_count": 75,
   "metadata": {
    "collapsed": true
   },
   "outputs": [],
   "source": [
    "starting_station_count.rename(columns={'Starting Station ID' : 'Starting_Station_ID', 'Trip ID' : 'Trip_ID'}, inplace = True)"
   ]
  },
  {
   "cell_type": "code",
   "execution_count": 76,
   "metadata": {},
   "outputs": [
    {
     "ename": "TypeError",
     "evalue": "'str' object is not callable",
     "output_type": "error",
     "traceback": [
      "\u001b[0;31m---------------------------------------------------------------------------\u001b[0m",
      "\u001b[0;31mTypeError\u001b[0m                                 Traceback (most recent call last)",
      "\u001b[0;32m<ipython-input-76-c2b0845be3d2>\u001b[0m in \u001b[0;36m<module>\u001b[0;34m()\u001b[0m\n\u001b[1;32m      1\u001b[0m \u001b[0mplt\u001b[0m\u001b[0;34m.\u001b[0m\u001b[0mclf\u001b[0m\u001b[0;34m\u001b[0m\u001b[0m\n\u001b[1;32m      2\u001b[0m \u001b[0mplt\u001b[0m\u001b[0;34m.\u001b[0m\u001b[0mscatter\u001b[0m\u001b[0;34m(\u001b[0m\u001b[0mstarting_station_count\u001b[0m\u001b[0;34m.\u001b[0m\u001b[0mStarting_Station_ID\u001b[0m\u001b[0;34m,\u001b[0m \u001b[0mstarting_station_count\u001b[0m\u001b[0;34m.\u001b[0m\u001b[0mTrip_ID\u001b[0m\u001b[0;34m)\u001b[0m\u001b[0;34m\u001b[0m\u001b[0m\n\u001b[0;32m----> 3\u001b[0;31m \u001b[0mplt\u001b[0m\u001b[0;34m.\u001b[0m\u001b[0mxlabel\u001b[0m\u001b[0;34m(\u001b[0m\u001b[0;34m'Starting Station'\u001b[0m\u001b[0;34m)\u001b[0m\u001b[0;34m\u001b[0m\u001b[0m\n\u001b[0m\u001b[1;32m      4\u001b[0m \u001b[0mplt\u001b[0m\u001b[0;34m.\u001b[0m\u001b[0mylabel\u001b[0m\u001b[0;34m(\u001b[0m\u001b[0;34m'Number of Trips'\u001b[0m\u001b[0;34m)\u001b[0m\u001b[0;34m\u001b[0m\u001b[0m\n",
      "\u001b[0;31mTypeError\u001b[0m: 'str' object is not callable"
     ]
    }
   ],
   "source": [
    "plt.clf\n",
    "plt.scatter(starting_station_count.Starting_Station_ID, starting_station_count.Trip_ID)\n",
    "plt.xlabel('Starting Station')\n",
    "plt.ylabel('Number of Trips')"
   ]
  },
  {
   "cell_type": "code",
   "execution_count": 77,
   "metadata": {},
   "outputs": [
    {
     "data": {
      "image/png": "[encoded data removed]",
      "text/plain": [
       "<Figure size 432x288 with 1 Axes>"
      ]
     },
     "metadata": {},
     "output_type": "display_data"
    }
   ],
   "source": [
    "plt.show()"
   ]
  },
  {
   "cell_type": "code",
   "execution_count": 78,
   "metadata": {},
   "outputs": [
    {
     "ename": "NameError",
     "evalue": "name 'xlabel' is not defined",
     "output_type": "error",
     "traceback": [
      "\u001b[0;31m---------------------------------------------------------------------------\u001b[0m",
      "\u001b[0;31mNameError\u001b[0m                                 Traceback (most recent call last)",
      "\u001b[0;32m<ipython-input-78-b6fcdf35fcc4>\u001b[0m in \u001b[0;36m<module>\u001b[0;34m()\u001b[0m\n\u001b[0;32m----> 1\u001b[0;31m \u001b[0mxlabel\u001b[0m\u001b[0;34m\u001b[0m\u001b[0m\n\u001b[0m",
      "\u001b[0;31mNameError\u001b[0m: name 'xlabel' is not defined"
     ]
    }
   ],
   "source": [
    "xlabel"
   ]
  },
  {
   "cell_type": "code",
   "execution_count": 79,
   "metadata": {},
   "outputs": [
    {
     "ename": "NameError",
     "evalue": "name 'xlabel' is not defined",
     "output_type": "error",
     "traceback": [
      "\u001b[0;31m---------------------------------------------------------------------------\u001b[0m",
      "\u001b[0;31mNameError\u001b[0m                                 Traceback (most recent call last)",
      "\u001b[0;32m<ipython-input-79-6ee6023513f2>\u001b[0m in \u001b[0;36m<module>\u001b[0;34m()\u001b[0m\n\u001b[0;32m----> 1\u001b[0;31m \u001b[0mprint\u001b[0m\u001b[0;34m(\u001b[0m\u001b[0mxlabel\u001b[0m\u001b[0;34m)\u001b[0m\u001b[0;34m\u001b[0m\u001b[0m\n\u001b[0m",
      "\u001b[0;31mNameError\u001b[0m: name 'xlabel' is not defined"
     ]
    }
   ],
   "source": [
    "print(xlabel)"
   ]
  },
  {
   "cell_type": "code",
   "execution_count": null,
   "metadata": {
    "collapsed": true
   },
   "outputs": [],
   "source": []
  }
 ],
 "metadata": {
  "kernelspec": {
   "display_name": "Python 3",
   "language": "python",
   "name": "python3"
  },
  "language_info": {
   "codemirror_mode": {
    "name": "ipython",
    "version": 3
   },
   "file_extension": ".py",
   "mimetype": "text/x-python",
   "name": "python",
   "nbconvert_exporter": "python",
   "pygments_lexer": "ipython3",
   "version": "3.6.4"
  }
 },
 "nbformat": 4,
 "nbformat_minor": 2
}
